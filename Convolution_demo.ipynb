{
  "nbformat": 4,
  "nbformat_minor": 0,
  "metadata": {
    "colab": {
      "name": "Convolution_demo.ipynb",
      "provenance": [],
      "authorship_tag": "ABX9TyPlUWIbQxkDiLXK47cdrwPh",
      "include_colab_link": true
    },
    "kernelspec": {
      "name": "python3",
      "display_name": "Python 3"
    },
    "language_info": {
      "name": "python"
    }
  },
  "cells": [
    {
      "cell_type": "markdown",
      "metadata": {
        "id": "view-in-github",
        "colab_type": "text"
      },
      "source": [
        "<a href=\"https://colab.research.google.com/github/abhisingh02/My-Google-Collaboratory-Work/blob/main/Convolution_demo.ipynb\" target=\"_parent\"><img src=\"https://colab.research.google.com/assets/colab-badge.svg\" alt=\"Open In Colab\"/></a>"
      ]
    },
    {
      "cell_type": "code",
      "execution_count": null,
      "metadata": {
        "id": "fNN3BJD9agpD"
      },
      "outputs": [],
      "source": [
        "from skimage.exposure import rescale_intensity\n",
        "import numpy as np,cv2 as cv"
      ]
    },
    {
      "cell_type": "code",
      "source": [
        "from skimage.exposure import rescale_intensity\n",
        "import numpy as np,argparse,cv2 as cv\n",
        "\n",
        "\n",
        "def convolve(image,kernel):\n",
        "    (iH, iW) = image.shape[:2]\n",
        "    (kH, kW) = kernel.shape[:2]\n",
        "\n",
        "    pad = (kW-1)//2\n",
        "    image = cv.copyMakeBorder(src=image,top=pad,\n",
        "                              bottom=pad,left=pad,right=pad,\n",
        "                              borderType=cv.BORDER_REPLICATE)\n",
        "    \n",
        "    output = np.zeros(shape=(iH,iW),dtype=float)\n",
        "    \n",
        "    for y in np.arange(pad, iH + pad):\n",
        "        for x in np.arange(pad, iW + pad):\n",
        "            \n",
        "            roi = image[y - pad:y + pad + 1, x - pad:x + pad + 1]\n",
        "\n",
        "            k = (roi*K).sum()\n",
        "\n",
        "            output[y-pad,x-pad]=k\n",
        "\n",
        "    output = rescale_intensity(output, in_range=(0, 255))\n",
        "    output = (output * 255).astype(\"uint8\")\n",
        "\n",
        "    return output"
      ],
      "metadata": {
        "id": "_lw9GJw7m4yp"
      },
      "execution_count": null,
      "outputs": []
    }
  ]
}