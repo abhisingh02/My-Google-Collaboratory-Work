{
  "nbformat": 4,
  "nbformat_minor": 0,
  "metadata": {
    "colab": {
      "name": "Regression_example.ipynb",
      "provenance": [],
      "authorship_tag": "ABX9TyOEGk+CyfAxC/QmwzF4CXx6",
      "include_colab_link": true
    },
    "kernelspec": {
      "name": "python3",
      "display_name": "Python 3"
    },
    "language_info": {
      "name": "python"
    }
  },
  "cells": [
    {
      "cell_type": "markdown",
      "metadata": {
        "id": "view-in-github",
        "colab_type": "text"
      },
      "source": [
        "<a href=\"https://colab.research.google.com/github/abhisingh02/My-Google-Collaboratory-Work/blob/main/Regression_example.ipynb\" target=\"_parent\"><img src=\"https://colab.research.google.com/assets/colab-badge.svg\" alt=\"Open In Colab\"/></a>"
      ]
    },
    {
      "cell_type": "code",
      "metadata": {
        "id": "tRDi05FYG11p"
      },
      "source": [
        "import numpy as np\n",
        "import pandas as pd"
      ],
      "execution_count": null,
      "outputs": []
    },
    {
      "cell_type": "code",
      "metadata": {
        "id": "dUzlXU41HgXD"
      },
      "source": [
        "data=pd.read_csv(\"/content/data2.csv\")"
      ],
      "execution_count": null,
      "outputs": []
    },
    {
      "cell_type": "code",
      "metadata": {
        "colab": {
          "base_uri": "https://localhost:8080/"
        },
        "id": "Catbi3DjOR9L",
        "outputId": "a80e5f5a-7dd9-411d-c0e0-bf480e7a5b88"
      },
      "source": [
        "data.info"
      ],
      "execution_count": null,
      "outputs": [
        {
          "output_type": "execute_result",
          "data": {
            "text/plain": [
              "<bound method DataFrame.info of       Depatment  WorkedHours  Certification  YearsExperience  Salary\n",
              "0   Development         2300              0              1.1   39343\n",
              "1       Testing         2100              1              1.3   46205\n",
              "2   Development         2104              2              1.5   37731\n",
              "3   UX Designer         1200              1              2.0   43525\n",
              "4       Testing         1254              2              2.2   39891\n",
              "5   UX Designer         1236              1              2.9   56642\n",
              "6   Development         1452              2              3.0   60150\n",
              "7       Testing         1789              1              3.2   54445\n",
              "8   UX Designer         1645              1              3.2   64445\n",
              "9   UX Designer         1258              0              3.7   57189\n",
              "10      Testing         1478              3              3.9   63218\n",
              "11  Development         1257              2              4.0   55794\n",
              "12  Development         1596              1              4.0   56957\n",
              "13      Testing         1256              2              4.1   57081\n",
              "14  UX Designer         1489              3              4.5   61111\n",
              "15  Development         1236              3              4.9   67938\n",
              "16      Testing         2311              2              5.1   66029\n",
              "17  UX Designer         2245              3              5.3   83088\n",
              "18  Development         2365              1              5.9   81363\n",
              "19  Development         1500              3              6.0   93940\n",
              "20      Testing         1456              2              6.8   91738\n",
              "21      Testing         1760              1              7.1   98273\n",
              "22  UX Designer         2400              4              7.9  101302\n",
              "23  Development         2148              3              8.2  113812\n",
              "24  UX Designer         1450              2              8.7  109431\n",
              "25  UX Designer         1000              4              9.0  105582\n",
              "26      Testing         1540              3              9.5  116969\n",
              "27  Development         1500              2              9.6  112635\n",
              "28      Testing         3000              4             10.3  122391\n",
              "29  UX Designer         2100              3             10.5  121872>"
            ]
          },
          "metadata": {},
          "execution_count": 4
        }
      ]
    },
    {
      "cell_type": "code",
      "metadata": {
        "id": "byL668CYN19B"
      },
      "source": [
        "X = data.iloc[:,:4]\n",
        "Y = data.iloc[:,4]"
      ],
      "execution_count": null,
      "outputs": []
    },
    {
      "cell_type": "code",
      "metadata": {
        "id": "FEfRzwRlN8jy"
      },
      "source": [
        "X=pd.get_dummies(X)"
      ],
      "execution_count": null,
      "outputs": []
    },
    {
      "cell_type": "code",
      "metadata": {
        "colab": {
          "base_uri": "https://localhost:8080/",
          "height": 206
        },
        "id": "ag7dUQhnODWR",
        "outputId": "62c542dd-8b8c-4b6c-9eca-0d5fbd0d1044"
      },
      "source": [
        "X.head()"
      ],
      "execution_count": null,
      "outputs": [
        {
          "output_type": "execute_result",
          "data": {
            "text/html": [
              "<div>\n",
              "<style scoped>\n",
              "    .dataframe tbody tr th:only-of-type {\n",
              "        vertical-align: middle;\n",
              "    }\n",
              "\n",
              "    .dataframe tbody tr th {\n",
              "        vertical-align: top;\n",
              "    }\n",
              "\n",
              "    .dataframe thead th {\n",
              "        text-align: right;\n",
              "    }\n",
              "</style>\n",
              "<table border=\"1\" class=\"dataframe\">\n",
              "  <thead>\n",
              "    <tr style=\"text-align: right;\">\n",
              "      <th></th>\n",
              "      <th>WorkedHours</th>\n",
              "      <th>Certification</th>\n",
              "      <th>YearsExperience</th>\n",
              "      <th>Depatment_Development</th>\n",
              "      <th>Depatment_Testing</th>\n",
              "      <th>Depatment_UX Designer</th>\n",
              "    </tr>\n",
              "  </thead>\n",
              "  <tbody>\n",
              "    <tr>\n",
              "      <th>0</th>\n",
              "      <td>2300</td>\n",
              "      <td>0</td>\n",
              "      <td>1.1</td>\n",
              "      <td>1</td>\n",
              "      <td>0</td>\n",
              "      <td>0</td>\n",
              "    </tr>\n",
              "    <tr>\n",
              "      <th>1</th>\n",
              "      <td>2100</td>\n",
              "      <td>1</td>\n",
              "      <td>1.3</td>\n",
              "      <td>0</td>\n",
              "      <td>1</td>\n",
              "      <td>0</td>\n",
              "    </tr>\n",
              "    <tr>\n",
              "      <th>2</th>\n",
              "      <td>2104</td>\n",
              "      <td>2</td>\n",
              "      <td>1.5</td>\n",
              "      <td>1</td>\n",
              "      <td>0</td>\n",
              "      <td>0</td>\n",
              "    </tr>\n",
              "    <tr>\n",
              "      <th>3</th>\n",
              "      <td>1200</td>\n",
              "      <td>1</td>\n",
              "      <td>2.0</td>\n",
              "      <td>0</td>\n",
              "      <td>0</td>\n",
              "      <td>1</td>\n",
              "    </tr>\n",
              "    <tr>\n",
              "      <th>4</th>\n",
              "      <td>1254</td>\n",
              "      <td>2</td>\n",
              "      <td>2.2</td>\n",
              "      <td>0</td>\n",
              "      <td>1</td>\n",
              "      <td>0</td>\n",
              "    </tr>\n",
              "  </tbody>\n",
              "</table>\n",
              "</div>"
            ],
            "text/plain": [
              "   WorkedHours  Certification  ...  Depatment_Testing  Depatment_UX Designer\n",
              "0         2300              0  ...                  0                      0\n",
              "1         2100              1  ...                  1                      0\n",
              "2         2104              2  ...                  0                      0\n",
              "3         1200              1  ...                  0                      1\n",
              "4         1254              2  ...                  1                      0\n",
              "\n",
              "[5 rows x 6 columns]"
            ]
          },
          "metadata": {},
          "execution_count": 7
        }
      ]
    },
    {
      "cell_type": "code",
      "metadata": {
        "colab": {
          "base_uri": "https://localhost:8080/"
        },
        "id": "YzFiTmCNQ529",
        "outputId": "51b58636-5efa-446a-d2ed-b09316b6721f"
      },
      "source": [
        "print(len(X))"
      ],
      "execution_count": null,
      "outputs": [
        {
          "output_type": "stream",
          "name": "stdout",
          "text": [
            "30\n"
          ]
        }
      ]
    },
    {
      "cell_type": "code",
      "metadata": {
        "id": "BCAMetFnRU2B"
      },
      "source": [
        "X=np.append(arr=np.ones([30,1]).astype(int),values=X,axis=1)"
      ],
      "execution_count": null,
      "outputs": []
    },
    {
      "cell_type": "code",
      "metadata": {
        "colab": {
          "base_uri": "https://localhost:8080/"
        },
        "id": "oW8iybMQSLVy",
        "outputId": "7185a4f4-2f1d-4587-e6af-d9b4891cde7f"
      },
      "source": [
        "X"
      ],
      "execution_count": null,
      "outputs": [
        {
          "output_type": "execute_result",
          "data": {
            "text/plain": [
              "array([[1.000e+00, 2.300e+03, 0.000e+00, 1.100e+00, 1.000e+00, 0.000e+00,\n",
              "        0.000e+00],\n",
              "       [1.000e+00, 2.100e+03, 1.000e+00, 1.300e+00, 0.000e+00, 1.000e+00,\n",
              "        0.000e+00],\n",
              "       [1.000e+00, 2.104e+03, 2.000e+00, 1.500e+00, 1.000e+00, 0.000e+00,\n",
              "        0.000e+00],\n",
              "       [1.000e+00, 1.200e+03, 1.000e+00, 2.000e+00, 0.000e+00, 0.000e+00,\n",
              "        1.000e+00],\n",
              "       [1.000e+00, 1.254e+03, 2.000e+00, 2.200e+00, 0.000e+00, 1.000e+00,\n",
              "        0.000e+00],\n",
              "       [1.000e+00, 1.236e+03, 1.000e+00, 2.900e+00, 0.000e+00, 0.000e+00,\n",
              "        1.000e+00],\n",
              "       [1.000e+00, 1.452e+03, 2.000e+00, 3.000e+00, 1.000e+00, 0.000e+00,\n",
              "        0.000e+00],\n",
              "       [1.000e+00, 1.789e+03, 1.000e+00, 3.200e+00, 0.000e+00, 1.000e+00,\n",
              "        0.000e+00],\n",
              "       [1.000e+00, 1.645e+03, 1.000e+00, 3.200e+00, 0.000e+00, 0.000e+00,\n",
              "        1.000e+00],\n",
              "       [1.000e+00, 1.258e+03, 0.000e+00, 3.700e+00, 0.000e+00, 0.000e+00,\n",
              "        1.000e+00],\n",
              "       [1.000e+00, 1.478e+03, 3.000e+00, 3.900e+00, 0.000e+00, 1.000e+00,\n",
              "        0.000e+00],\n",
              "       [1.000e+00, 1.257e+03, 2.000e+00, 4.000e+00, 1.000e+00, 0.000e+00,\n",
              "        0.000e+00],\n",
              "       [1.000e+00, 1.596e+03, 1.000e+00, 4.000e+00, 1.000e+00, 0.000e+00,\n",
              "        0.000e+00],\n",
              "       [1.000e+00, 1.256e+03, 2.000e+00, 4.100e+00, 0.000e+00, 1.000e+00,\n",
              "        0.000e+00],\n",
              "       [1.000e+00, 1.489e+03, 3.000e+00, 4.500e+00, 0.000e+00, 0.000e+00,\n",
              "        1.000e+00],\n",
              "       [1.000e+00, 1.236e+03, 3.000e+00, 4.900e+00, 1.000e+00, 0.000e+00,\n",
              "        0.000e+00],\n",
              "       [1.000e+00, 2.311e+03, 2.000e+00, 5.100e+00, 0.000e+00, 1.000e+00,\n",
              "        0.000e+00],\n",
              "       [1.000e+00, 2.245e+03, 3.000e+00, 5.300e+00, 0.000e+00, 0.000e+00,\n",
              "        1.000e+00],\n",
              "       [1.000e+00, 2.365e+03, 1.000e+00, 5.900e+00, 1.000e+00, 0.000e+00,\n",
              "        0.000e+00],\n",
              "       [1.000e+00, 1.500e+03, 3.000e+00, 6.000e+00, 1.000e+00, 0.000e+00,\n",
              "        0.000e+00],\n",
              "       [1.000e+00, 1.456e+03, 2.000e+00, 6.800e+00, 0.000e+00, 1.000e+00,\n",
              "        0.000e+00],\n",
              "       [1.000e+00, 1.760e+03, 1.000e+00, 7.100e+00, 0.000e+00, 1.000e+00,\n",
              "        0.000e+00],\n",
              "       [1.000e+00, 2.400e+03, 4.000e+00, 7.900e+00, 0.000e+00, 0.000e+00,\n",
              "        1.000e+00],\n",
              "       [1.000e+00, 2.148e+03, 3.000e+00, 8.200e+00, 1.000e+00, 0.000e+00,\n",
              "        0.000e+00],\n",
              "       [1.000e+00, 1.450e+03, 2.000e+00, 8.700e+00, 0.000e+00, 0.000e+00,\n",
              "        1.000e+00],\n",
              "       [1.000e+00, 1.000e+03, 4.000e+00, 9.000e+00, 0.000e+00, 0.000e+00,\n",
              "        1.000e+00],\n",
              "       [1.000e+00, 1.540e+03, 3.000e+00, 9.500e+00, 0.000e+00, 1.000e+00,\n",
              "        0.000e+00],\n",
              "       [1.000e+00, 1.500e+03, 2.000e+00, 9.600e+00, 1.000e+00, 0.000e+00,\n",
              "        0.000e+00],\n",
              "       [1.000e+00, 3.000e+03, 4.000e+00, 1.030e+01, 0.000e+00, 1.000e+00,\n",
              "        0.000e+00],\n",
              "       [1.000e+00, 2.100e+03, 3.000e+00, 1.050e+01, 0.000e+00, 0.000e+00,\n",
              "        1.000e+00]])"
            ]
          },
          "metadata": {},
          "execution_count": 10
        }
      ]
    },
    {
      "cell_type": "code",
      "metadata": {
        "id": "4OJiO6sISTGJ",
        "colab": {
          "base_uri": "https://localhost:8080/"
        },
        "outputId": "0e520c58-8a7c-45e5-e76b-cf3a67708bb8"
      },
      "source": [
        "from sklearn.linear_model import LinearRegression\n",
        "import statsmodels.regression.linear_model as sl"
      ],
      "execution_count": null,
      "outputs": [
        {
          "output_type": "stream",
          "name": "stderr",
          "text": [
            "/usr/local/lib/python3.7/dist-packages/statsmodels/tools/_testing.py:19: FutureWarning: pandas.util.testing is deprecated. Use the functions in the public API at pandas.testing instead.\n",
            "  import pandas.util.testing as tm\n"
          ]
        }
      ]
    },
    {
      "cell_type": "code",
      "metadata": {
        "id": "ec_dBmgGS-la"
      },
      "source": [
        "X=X[:,[0,1,2,3,4,5]]"
      ],
      "execution_count": null,
      "outputs": []
    },
    {
      "cell_type": "code",
      "metadata": {
        "id": "N0G-18zFTcdJ"
      },
      "source": [
        "OLS=sl.OLS(endog=Y,exog=X).fit()"
      ],
      "execution_count": null,
      "outputs": []
    },
    {
      "cell_type": "code",
      "metadata": {
        "colab": {
          "base_uri": "https://localhost:8080/"
        },
        "id": "9CJqR2qLTuIp",
        "outputId": "67a77fac-3e53-4b03-ebce-1bad5318f6a4"
      },
      "source": [
        "print(OLS.summary())"
      ],
      "execution_count": null,
      "outputs": [
        {
          "output_type": "stream",
          "name": "stdout",
          "text": [
            "                            OLS Regression Results                            \n",
            "==============================================================================\n",
            "Dep. Variable:                 Salary   R-squared:                       0.961\n",
            "Model:                            OLS   Adj. R-squared:                  0.952\n",
            "Method:                 Least Squares   F-statistic:                     117.2\n",
            "Date:                Wed, 01 Dec 2021   Prob (F-statistic):           4.71e-16\n",
            "Time:                        17:04:56   Log-Likelihood:                -300.09\n",
            "No. Observations:                  30   AIC:                             612.2\n",
            "Df Residuals:                      24   BIC:                             620.6\n",
            "Df Model:                           5                                         \n",
            "Covariance Type:            nonrobust                                         \n",
            "==============================================================================\n",
            "                 coef    std err          t      P>|t|      [0.025      0.975]\n",
            "------------------------------------------------------------------------------\n",
            "const       2.155e+04   4545.270      4.742      0.000    1.22e+04    3.09e+04\n",
            "x1             3.3361      2.410      1.384      0.179      -1.637       8.310\n",
            "x2          -423.7607   1282.271     -0.330      0.744   -3070.237    2222.716\n",
            "x3          9437.2530    510.978     18.469      0.000    8382.645    1.05e+04\n",
            "x4           -92.8656   2735.524     -0.034      0.973   -5738.710    5552.978\n",
            "x5         -1514.2911   2724.621     -0.556      0.584   -7137.633    4109.050\n",
            "==============================================================================\n",
            "Omnibus:                        2.020   Durbin-Watson:                   1.918\n",
            "Prob(Omnibus):                  0.364   Jarque-Bera (JB):                1.629\n",
            "Skew:                           0.414   Prob(JB):                        0.443\n",
            "Kurtosis:                       2.214   Cond. No.                     7.66e+03\n",
            "==============================================================================\n",
            "\n",
            "Warnings:\n",
            "[1] Standard Errors assume that the covariance matrix of the errors is correctly specified.\n",
            "[2] The condition number is large, 7.66e+03. This might indicate that there are\n",
            "strong multicollinearity or other numerical problems.\n"
          ]
        }
      ]
    },
    {
      "cell_type": "code",
      "metadata": {
        "colab": {
          "base_uri": "https://localhost:8080/"
        },
        "id": "iof585qmaLES",
        "outputId": "b0943a9b-e658-4a51-c100-a3efdd5932b0"
      },
      "source": [
        "New_X=X[:,[0,1,2,3,4,5]]\n",
        "model=LinearRegression()\n",
        "model.fit(X,Y)"
      ],
      "execution_count": null,
      "outputs": [
        {
          "output_type": "execute_result",
          "data": {
            "text/plain": [
              "LinearRegression()"
            ]
          },
          "metadata": {},
          "execution_count": 16
        }
      ]
    },
    {
      "cell_type": "code",
      "metadata": {
        "id": "cniEeTCta9Px"
      },
      "source": [
        "Ne_X=X[:,[0,1,2,3,4,5]]\n",
        "OLS=sl.OLS(endog=Y,exog=New_X).fit()"
      ],
      "execution_count": null,
      "outputs": []
    },
    {
      "cell_type": "code",
      "metadata": {
        "colab": {
          "base_uri": "https://localhost:8080/"
        },
        "id": "yfDHk9lUbH8i",
        "outputId": "834cf57d-6933-49c3-acf0-138ba6fa6aad"
      },
      "source": [
        "print(OLS.summary())"
      ],
      "execution_count": null,
      "outputs": [
        {
          "output_type": "stream",
          "name": "stdout",
          "text": [
            "                            OLS Regression Results                            \n",
            "==============================================================================\n",
            "Dep. Variable:                 Salary   R-squared:                       0.961\n",
            "Model:                            OLS   Adj. R-squared:                  0.952\n",
            "Method:                 Least Squares   F-statistic:                     117.2\n",
            "Date:                Wed, 01 Dec 2021   Prob (F-statistic):           4.71e-16\n",
            "Time:                        17:05:04   Log-Likelihood:                -300.09\n",
            "No. Observations:                  30   AIC:                             612.2\n",
            "Df Residuals:                      24   BIC:                             620.6\n",
            "Df Model:                           5                                         \n",
            "Covariance Type:            nonrobust                                         \n",
            "==============================================================================\n",
            "                 coef    std err          t      P>|t|      [0.025      0.975]\n",
            "------------------------------------------------------------------------------\n",
            "const       2.155e+04   4545.270      4.742      0.000    1.22e+04    3.09e+04\n",
            "x1             3.3361      2.410      1.384      0.179      -1.637       8.310\n",
            "x2          -423.7607   1282.271     -0.330      0.744   -3070.237    2222.716\n",
            "x3          9437.2530    510.978     18.469      0.000    8382.645    1.05e+04\n",
            "x4           -92.8656   2735.524     -0.034      0.973   -5738.710    5552.978\n",
            "x5         -1514.2911   2724.621     -0.556      0.584   -7137.633    4109.050\n",
            "==============================================================================\n",
            "Omnibus:                        2.020   Durbin-Watson:                   1.918\n",
            "Prob(Omnibus):                  0.364   Jarque-Bera (JB):                1.629\n",
            "Skew:                           0.414   Prob(JB):                        0.443\n",
            "Kurtosis:                       2.214   Cond. No.                     7.66e+03\n",
            "==============================================================================\n",
            "\n",
            "Warnings:\n",
            "[1] Standard Errors assume that the covariance matrix of the errors is correctly specified.\n",
            "[2] The condition number is large, 7.66e+03. This might indicate that there are\n",
            "strong multicollinearity or other numerical problems.\n"
          ]
        }
      ]
    },
    {
      "cell_type": "code",
      "metadata": {
        "id": "1Q4zuHQx9PB_"
      },
      "source": [
        ""
      ],
      "execution_count": null,
      "outputs": []
    }
  ]
}